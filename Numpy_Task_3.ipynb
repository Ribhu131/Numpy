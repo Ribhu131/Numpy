{
  "nbformat": 4,
  "nbformat_minor": 0,
  "metadata": {
    "colab": {
      "name": "Numpy Task-3.ipynb",
      "provenance": []
    },
    "kernelspec": {
      "name": "python3",
      "display_name": "Python 3"
    },
    "language_info": {
      "name": "python"
    }
  },
  "cells": [
    {
      "cell_type": "code",
      "source": [
        "import numpy as np"
      ],
      "metadata": {
        "id": "-M-1-Z7m5mTC"
      },
      "execution_count": 31,
      "outputs": []
    },
    {
      "cell_type": "code",
      "source": [
        "# Setup for questions 1 and 2\n",
        "arr1=np.arange(40).reshape(8,5)\n",
        "arr1"
      ],
      "metadata": {
        "colab": {
          "base_uri": "https://localhost:8080/"
        },
        "id": "u7FAipxQ5mYr",
        "outputId": "9a6224c9-0168-468e-c871-43c7d3c7fd71"
      },
      "execution_count": 32,
      "outputs": [
        {
          "output_type": "execute_result",
          "data": {
            "text/plain": [
              "array([[ 0,  1,  2,  3,  4],\n",
              "       [ 5,  6,  7,  8,  9],\n",
              "       [10, 11, 12, 13, 14],\n",
              "       [15, 16, 17, 18, 19],\n",
              "       [20, 21, 22, 23, 24],\n",
              "       [25, 26, 27, 28, 29],\n",
              "       [30, 31, 32, 33, 34],\n",
              "       [35, 36, 37, 38, 39]])"
            ]
          },
          "metadata": {},
          "execution_count": 32
        }
      ]
    },
    {
      "cell_type": "code",
      "source": [
        "# Q1. From arr1 you have to fetch out every alternate column starting from col1\n",
        "\n",
        "arr1[:,::2] ## extracting the full row and taking col by maintaing gap of 1 from arr1"
      ],
      "metadata": {
        "colab": {
          "base_uri": "https://localhost:8080/"
        },
        "id": "EuORqbva5mdy",
        "outputId": "35eae2ee-ad5a-4d4b-be40-c38d026a3a5b"
      },
      "execution_count": 33,
      "outputs": [
        {
          "output_type": "execute_result",
          "data": {
            "text/plain": [
              "array([[ 0,  2,  4],\n",
              "       [ 5,  7,  9],\n",
              "       [10, 12, 14],\n",
              "       [15, 17, 19],\n",
              "       [20, 22, 24],\n",
              "       [25, 27, 29],\n",
              "       [30, 32, 34],\n",
              "       [35, 37, 39]])"
            ]
          },
          "metadata": {},
          "execution_count": 33
        }
      ]
    },
    {
      "cell_type": "code",
      "source": [
        "# Q2. From arr1 fetch an array which would contain {0,2,4} {15,17,19} and {30,32,34} \n",
        "\n",
        "arr1[::3,::2] ## extracting the row by maintaing a gap of 2 row from arr1 and taking col by maintaing gap of 1 from arr1"
      ],
      "metadata": {
        "colab": {
          "base_uri": "https://localhost:8080/"
        },
        "id": "FdaddqFL5mhX",
        "outputId": "3af9fdd5-653c-45ab-d515-1e2528114831"
      },
      "execution_count": 34,
      "outputs": [
        {
          "output_type": "execute_result",
          "data": {
            "text/plain": [
              "array([[ 0,  2,  4],\n",
              "       [15, 17, 19],\n",
              "       [30, 32, 34]])"
            ]
          },
          "metadata": {},
          "execution_count": 34
        }
      ]
    },
    {
      "cell_type": "code",
      "source": [
        "# Setup for question\n",
        "\n",
        "# Generating a random numpy array of intergers ranging between 1 and 100\n",
        "\n",
        "arr2=np.random.randint(low=1, high=10000, size=10).reshape(2,5)\n",
        "arr2"
      ],
      "metadata": {
        "colab": {
          "base_uri": "https://localhost:8080/"
        },
        "id": "y2K4iyvB5mkm",
        "outputId": "38c10902-52c5-4188-f9c6-d2829b094978"
      },
      "execution_count": 35,
      "outputs": [
        {
          "output_type": "execute_result",
          "data": {
            "text/plain": [
              "array([[4655, 5226, 1256, 6556, 3285],\n",
              "       [8230, 3734, 7347, 4854, 2132]])"
            ]
          },
          "metadata": {},
          "execution_count": 35
        }
      ]
    },
    {
      "cell_type": "markdown",
      "source": [
        "Normalization rescales the values into a range of [0,1]. This might be useful in some cases where all parameters need to have the same positive scale. You have to do this a lot in machine learning for eg you are working with 2 cols, one is total runs scored by a batsman(in the scale of 1000s), and the second is number of matches played by him(in the scale of 10s). The formula for normalization is given below\n",
        "\n",
        "Xchanged=(X−Xmin)/(Xmax−Xmin)"
      ],
      "metadata": {
        "id": "zfZsz_Sj6Iay"
      }
    },
    {
      "cell_type": "code",
      "source": [
        "# Q3. Write a code to normalize arr2.\n",
        "\n",
        "Xma = arr2.max()  ## max value in arr2 \n",
        "xmi = arr2.min()  ## min value of arr2\n",
        "newx = (arr2-xmi)/(xma-xmi)  ## new scaled array generated\n",
        "\n",
        "newx"
      ],
      "metadata": {
        "colab": {
          "base_uri": "https://localhost:8080/"
        },
        "id": "QNncah825mnC",
        "outputId": "33c48ab5-775c-48a5-da90-debf2eb81962"
      },
      "execution_count": 49,
      "outputs": [
        {
          "output_type": "execute_result",
          "data": {
            "text/plain": [
              "array([[0.64132075, 0.7490566 , 0.        , 1.        , 0.38283019],\n",
              "       [1.31584906, 0.46754717, 1.14924528, 0.67886792, 0.16528302]])"
            ]
          },
          "metadata": {},
          "execution_count": 49
        }
      ]
    },
    {
      "cell_type": "code",
      "source": [
        "np.percentile(arr1,25)"
      ],
      "metadata": {
        "colab": {
          "base_uri": "https://localhost:8080/"
        },
        "id": "M4-9uZev5mtQ",
        "outputId": "8110a0ea-8c4d-4f49-c127-cf8d9dd81195"
      },
      "execution_count": 38,
      "outputs": [
        {
          "output_type": "execute_result",
          "data": {
            "text/plain": [
              "9.75"
            ]
          },
          "metadata": {},
          "execution_count": 38
        }
      ]
    },
    {
      "cell_type": "markdown",
      "source": [
        "Missing values are a pain in the a**(sorry for language). But yes trust me."
      ],
      "metadata": {
        "id": "IrMRxASH6SgS"
      }
    },
    {
      "cell_type": "code",
      "source": [
        "# Q4. How would you check if your numpy array has some missing values?\n",
        "\n",
        "w = np.array([[1,2,45],[4,np.nan,89]]) ## taking a numpy array with null value\n",
        "\n",
        "np.isnan(w) #this function verifies each element of np array \"w\" and returns a 'bool' type array which contains true and false depending upon the null value present or not in \"W\" respectivly\n",
        "# Hint: Thoda research karo numpy me existing functions hai"
      ],
      "metadata": {
        "colab": {
          "base_uri": "https://localhost:8080/"
        },
        "id": "XiQwG2HG5my7",
        "outputId": "cdc01f45-5e67-459a-b550-94149d76861b"
      },
      "execution_count": 39,
      "outputs": [
        {
          "output_type": "execute_result",
          "data": {
            "text/plain": [
              "array([[False, False, False],\n",
              "       [False,  True, False]])"
            ]
          },
          "metadata": {},
          "execution_count": 39
        }
      ]
    },
    {
      "cell_type": "code",
      "source": [
        "# Q5. Write a function which will accept 2 arguments.\n",
        "# First: A 1D numpy array arr\n",
        "# Second: An integer n {Please make sure n<=len(arr)}\n",
        "\n",
        "# Output: The output should be the nth largest item out of the array\n",
        "\n",
        "# Example1 : arr=(12,34,40,7,1,0) and n=3, the output should be 12\n",
        "# Example2 : arr=(12,34,40,7,1,0) and n=1, the output should be 40\n",
        "\n",
        "\n",
        "def my_func(arr,n): # function\n",
        "  if 0<n<=len(arr):                           ## 2nd parameter entered by the user is in the range or not is verified\n",
        "    print(np.sort(a)[-n]) ## as sort() gives a ascending oder of the array as an output so, negative indexing provides the \"index-number\"th highest value present in the array \n",
        "  else:\n",
        "    print(\"Put The Value Of 2nd parameter in the range of 1 to length of array\") ## else part of the if"
      ],
      "metadata": {
        "id": "3BNVr4B35m2g"
      },
      "execution_count": 40,
      "outputs": []
    },
    {
      "cell_type": "code",
      "source": [
        "my_func((12, 34, 40, 7, 1, 0),3) ## test case 1: function gives the 3rd highest number"
      ],
      "metadata": {
        "colab": {
          "base_uri": "https://localhost:8080/"
        },
        "id": "TM9rdHnr5m5Z",
        "outputId": "d367b862-88d8-4813-c139-cdcd6ac3acd5"
      },
      "execution_count": 41,
      "outputs": [
        {
          "output_type": "stream",
          "name": "stdout",
          "text": [
            "[30 30 30]\n"
          ]
        }
      ]
    },
    {
      "cell_type": "code",
      "source": [
        "my_func((12, 34, 40, 7, 1, 0),1) ## test case 2: function gives the 1st highest number"
      ],
      "metadata": {
        "colab": {
          "base_uri": "https://localhost:8080/"
        },
        "id": "7MMgC1mK5m84",
        "outputId": "68f8c4a7-6340-49ec-8795-ba2e96cc7b9d"
      },
      "execution_count": 42,
      "outputs": [
        {
          "output_type": "stream",
          "name": "stdout",
          "text": [
            "[24 28 30]\n"
          ]
        }
      ]
    },
    {
      "cell_type": "code",
      "source": [
        "my_func((12, 34, 40, 7, 1, 0),-1) ## test case 3: function dosn't take 2nd parameter as negative"
      ],
      "metadata": {
        "colab": {
          "base_uri": "https://localhost:8080/"
        },
        "id": "JOiy9H5u5m-8",
        "outputId": "cbbd348e-1cd7-4b50-9f6e-c59ea54674cf"
      },
      "execution_count": 43,
      "outputs": [
        {
          "output_type": "stream",
          "name": "stdout",
          "text": [
            "Put The Value Of 2nd parameter in the range of 1 to length of array\n"
          ]
        }
      ]
    },
    {
      "cell_type": "code",
      "source": [
        "my_func((12, 34, 40, 7, 1, 0),7) ## test case 3: function dosn't take 2nd parameter above the range of it's length"
      ],
      "metadata": {
        "colab": {
          "base_uri": "https://localhost:8080/"
        },
        "id": "YJBJgQT25nBZ",
        "outputId": "4eb9acda-a1ad-4c60-d81b-b640669904c6"
      },
      "execution_count": 44,
      "outputs": [
        {
          "output_type": "stream",
          "name": "stdout",
          "text": [
            "Put The Value Of 2nd parameter in the range of 1 to length of array\n"
          ]
        }
      ]
    },
    {
      "cell_type": "code",
      "source": [
        ""
      ],
      "metadata": {
        "id": "SjZcimIB5nDr"
      },
      "execution_count": null,
      "outputs": []
    },
    {
      "cell_type": "code",
      "source": [
        ""
      ],
      "metadata": {
        "id": "DdxL-i985nHB"
      },
      "execution_count": null,
      "outputs": []
    }
  ]
}