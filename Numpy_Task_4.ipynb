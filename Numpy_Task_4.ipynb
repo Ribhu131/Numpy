{
  "nbformat": 4,
  "nbformat_minor": 0,
  "metadata": {
    "colab": {
      "name": "Numpy Task-4.ipynb",
      "provenance": []
    },
    "kernelspec": {
      "name": "python3",
      "display_name": "Python 3"
    },
    "language_info": {
      "name": "python"
    }
  },
  "cells": [
    {
      "cell_type": "code",
      "source": [
        "import numpy as np"
      ],
      "metadata": {
        "id": "073O_QZL7WM6"
      },
      "execution_count": 51,
      "outputs": []
    },
    {
      "cell_type": "code",
      "source": [
        "arr1=np.arange(20).reshape(4,5)\n",
        "arr1"
      ],
      "metadata": {
        "colab": {
          "base_uri": "https://localhost:8080/"
        },
        "id": "KxGzgSMw7Yq9",
        "outputId": "8fb4a890-ef38-49b4-ff79-95f1e202ed18"
      },
      "execution_count": 52,
      "outputs": [
        {
          "output_type": "execute_result",
          "data": {
            "text/plain": [
              "array([[ 0,  1,  2,  3,  4],\n",
              "       [ 5,  6,  7,  8,  9],\n",
              "       [10, 11, 12, 13, 14],\n",
              "       [15, 16, 17, 18, 19]])"
            ]
          },
          "metadata": {},
          "execution_count": 52
        }
      ]
    },
    {
      "cell_type": "markdown",
      "source": [
        "Q1.Write a numpy code to swap col1([0,5,10,15]) with col4([3,8,13,18])"
      ],
      "metadata": {
        "id": "gGSQwBIY7bFe"
      }
    },
    {
      "cell_type": "code",
      "source": [
        "# without using fancy indexing\n",
        "arrx = np.copy(arr1)\n",
        "x = np.copy(arrx[:,0])\n",
        "arrx[:,0] = arrx[:,3]\n",
        "arrx[:,3] = x\n",
        "\n",
        "arrx"
      ],
      "metadata": {
        "colab": {
          "base_uri": "https://localhost:8080/"
        },
        "id": "U6f_M-4E7bxn",
        "outputId": "78a2e745-f065-4740-ab4e-b079f26a61e3"
      },
      "execution_count": 53,
      "outputs": [
        {
          "output_type": "execute_result",
          "data": {
            "text/plain": [
              "array([[ 3,  1,  2,  0,  4],\n",
              "       [ 8,  6,  7,  5,  9],\n",
              "       [13, 11, 12, 10, 14],\n",
              "       [18, 16, 17, 15, 19]])"
            ]
          },
          "metadata": {},
          "execution_count": 53
        }
      ]
    },
    {
      "cell_type": "code",
      "source": [
        "## using Fancy Indexing\n",
        "arry = np.copy(arr1)\n",
        "arry[:,[0,3]] = arry[:,[3,0]]\n",
        "arry"
      ],
      "metadata": {
        "colab": {
          "base_uri": "https://localhost:8080/"
        },
        "id": "nvDWVaAe7gC9",
        "outputId": "7b56b8c5-9313-4178-b102-e4e26b0b18a1"
      },
      "execution_count": 54,
      "outputs": [
        {
          "output_type": "execute_result",
          "data": {
            "text/plain": [
              "array([[ 3,  1,  2,  0,  4],\n",
              "       [ 8,  6,  7,  5,  9],\n",
              "       [13, 11, 12, 10, 14],\n",
              "       [18, 16, 17, 15, 19]])"
            ]
          },
          "metadata": {},
          "execution_count": 54
        }
      ]
    },
    {
      "cell_type": "markdown",
      "source": [
        "Q2.Write a numpy code to reverse the rows of arr1\n",
        "\n",
        "The output should be [15, 16, 17, 18, 19] as first row and [ 0, 1, 2, 3, 4] as last row"
      ],
      "metadata": {
        "id": "9d5XTowZ7l6u"
      }
    },
    {
      "cell_type": "code",
      "source": [
        "## without fancy indexing\n",
        "l = [] # initilizing empty list\n",
        "i = len(arr1)-1 ## initizing loop variable \n",
        "while i>=0:\n",
        "    l.append(arr1[i,:]) \n",
        "    y = np.array(l)\n",
        "    i = i-1\n",
        "print(y)\n",
        "type(y)"
      ],
      "metadata": {
        "colab": {
          "base_uri": "https://localhost:8080/"
        },
        "id": "7kTxWk0Z7mjh",
        "outputId": "9d7ff63e-e57b-48a1-dc74-fe9556b93e01"
      },
      "execution_count": 55,
      "outputs": [
        {
          "output_type": "stream",
          "name": "stdout",
          "text": [
            "[[15 16 17 18 19]\n",
            " [10 11 12 13 14]\n",
            " [ 5  6  7  8  9]\n",
            " [ 0  1  2  3  4]]\n"
          ]
        },
        {
          "output_type": "execute_result",
          "data": {
            "text/plain": [
              "numpy.ndarray"
            ]
          },
          "metadata": {},
          "execution_count": 55
        }
      ]
    },
    {
      "cell_type": "code",
      "source": [
        "## using fancy indexing\n",
        "arrt = np.copy(arr1)\n",
        "arrt[[0,1,2,3],:] = arrt[[3,2,1,0],:]\n",
        "arrt"
      ],
      "metadata": {
        "colab": {
          "base_uri": "https://localhost:8080/"
        },
        "id": "FrOVqgbJ7wpq",
        "outputId": "7f52d4ac-23e6-43c6-ca5d-2459338d2cd9"
      },
      "execution_count": 56,
      "outputs": [
        {
          "output_type": "execute_result",
          "data": {
            "text/plain": [
              "array([[15, 16, 17, 18, 19],\n",
              "       [10, 11, 12, 13, 14],\n",
              "       [ 5,  6,  7,  8,  9],\n",
              "       [ 0,  1,  2,  3,  4]])"
            ]
          },
          "metadata": {},
          "execution_count": 56
        }
      ]
    },
    {
      "cell_type": "markdown",
      "source": [
        "Q3.Write a code to replace all the nan(missing values) of arr2 with the mean of arr2"
      ],
      "metadata": {
        "id": "7_H6zn5t7y5H"
      }
    },
    {
      "cell_type": "code",
      "source": [
        "arr2=np.array([[1,2,np.nan],[4,5,6],[np.nan,np.nan,9]])\n",
        "arr2"
      ],
      "metadata": {
        "colab": {
          "base_uri": "https://localhost:8080/"
        },
        "id": "VwzanqzM7zjv",
        "outputId": "982a5169-5d15-4951-e1da-06163050600b"
      },
      "execution_count": 57,
      "outputs": [
        {
          "output_type": "execute_result",
          "data": {
            "text/plain": [
              "array([[ 1.,  2., nan],\n",
              "       [ 4.,  5.,  6.],\n",
              "       [nan, nan,  9.]])"
            ]
          },
          "metadata": {},
          "execution_count": 57
        }
      ]
    },
    {
      "cell_type": "code",
      "source": [
        "arr2[np.isnan(arr2)] = np.nanmean(arr2)\n",
        "arr2"
      ],
      "metadata": {
        "colab": {
          "base_uri": "https://localhost:8080/"
        },
        "id": "Kapc-qhv73I1",
        "outputId": "0d1ea87a-a939-4e03-ba9b-265c013dba38"
      },
      "execution_count": 58,
      "outputs": [
        {
          "output_type": "execute_result",
          "data": {
            "text/plain": [
              "array([[1. , 2. , 4.5],\n",
              "       [4. , 5. , 6. ],\n",
              "       [4.5, 4.5, 9. ]])"
            ]
          },
          "metadata": {},
          "execution_count": 58
        }
      ]
    },
    {
      "cell_type": "markdown",
      "source": [
        "Q4.Write a code which can fetch all items from arr3 which are either greater than 25 or a multiple of 3"
      ],
      "metadata": {
        "id": "M8RekPCM760O"
      }
    },
    {
      "cell_type": "code",
      "source": [
        "arr3[(arr3>25) | (arr3%3==0)]"
      ],
      "metadata": {
        "colab": {
          "base_uri": "https://localhost:8080/"
        },
        "id": "YWCqgiVK7_tK",
        "outputId": "e940dbcd-5ce8-47fb-eb5c-43e04189af03"
      },
      "execution_count": 60,
      "outputs": [
        {
          "output_type": "execute_result",
          "data": {
            "text/plain": [
              "array([45, 31, 78, 89, 48, 90,  3, 60, 39, 49, 34, 31, 99, 82, 63, 29,  3])"
            ]
          },
          "metadata": {},
          "execution_count": 60
        }
      ]
    },
    {
      "cell_type": "code",
      "source": [
        "arr3=np.random.randint(low=1,high=100,size=20).reshape(5,4)\n",
        "arr3"
      ],
      "metadata": {
        "colab": {
          "base_uri": "https://localhost:8080/"
        },
        "id": "SLHjpbC377dN",
        "outputId": "0070df57-6ef0-4327-8439-f658fd78deab"
      },
      "execution_count": 59,
      "outputs": [
        {
          "output_type": "execute_result",
          "data": {
            "text/plain": [
              "array([[45, 31, 25, 78],\n",
              "       [89, 48, 90,  3],\n",
              "       [60, 39, 49, 34],\n",
              "       [ 8, 31, 99,  8],\n",
              "       [82, 63, 29,  3]])"
            ]
          },
          "metadata": {},
          "execution_count": 59
        }
      ]
    },
    {
      "cell_type": "markdown",
      "source": [
        "Q5.Write a code to find the 10th, 25th, 50th(median) percentile of arr3\n",
        "\n",
        "Percentiles are a very important concept in Statistics.\n",
        "\n"
      ],
      "metadata": {
        "id": "KxwU5C9I79yg"
      }
    },
    {
      "cell_type": "code",
      "source": [
        "print(\"10th percentile value is\",np.percentile(arr3,10))\n",
        "print(\"25th percentile value is\",np.percentile(arr3,25))\n",
        "print(\"50th percentile value is\",np.percentile(arr3,50))"
      ],
      "metadata": {
        "colab": {
          "base_uri": "https://localhost:8080/"
        },
        "id": "85DG7Sph8SMe",
        "outputId": "6ad651eb-52c0-44ed-c3a7-34577f2cf71d"
      },
      "execution_count": 61,
      "outputs": [
        {
          "output_type": "stream",
          "name": "stdout",
          "text": [
            "10th percentile value is 7.500000000000001\n",
            "25th percentile value is 28.0\n",
            "50th percentile value is 42.0\n"
          ]
        }
      ]
    }
  ]
}