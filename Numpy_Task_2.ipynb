{
  "nbformat": 4,
  "nbformat_minor": 0,
  "metadata": {
    "colab": {
      "name": "Numpy Task-2.ipynb",
      "provenance": []
    },
    "kernelspec": {
      "name": "python3",
      "display_name": "Python 3"
    },
    "language_info": {
      "name": "python"
    }
  },
  "cells": [
    {
      "cell_type": "code",
      "source": [
        "import numpy as np\n",
        "np.linspace(20,10,10)"
      ],
      "metadata": {
        "colab": {
          "base_uri": "https://localhost:8080/"
        },
        "id": "xyFARz2n5goZ",
        "outputId": "223c6baf-3bf0-4193-acc0-ac85b1011d06"
      },
      "execution_count": 27,
      "outputs": [
        {
          "output_type": "execute_result",
          "data": {
            "text/plain": [
              "array([20.        , 18.88888889, 17.77777778, 16.66666667, 15.55555556,\n",
              "       14.44444444, 13.33333333, 12.22222222, 11.11111111, 10.        ])"
            ]
          },
          "metadata": {},
          "execution_count": 27
        }
      ]
    },
    {
      "cell_type": "code",
      "source": [
        "def mymodel(a,b,c):\n",
        "    a = float(a)                    ## converting the initial value in float\n",
        "    b = float(b)                    ## converting the final value in float\n",
        "    x = [a]                         ## storing the value of initial point in the outputlist\n",
        "    gap = b-a                       ## gap means the summation of each segment length \n",
        "    incrimental_value = gap/(c-1)  \n",
        "    \"\"\" cause : let there be n points out of which the 1st and nth element are specified and let \n",
        "               there be total 5 points on the line. So the difference between the first and nth value gives the \n",
        "               total interval which needs to be divided into (5-1)=4 {number of points - 1 = number of segments} equal intervals to get 5 points on the line with equal \n",
        "               spacing between them.\n",
        "\n",
        "    \"\"\"\n",
        "    i = 0                            ## loop variable initilization\n",
        "    while(i<c-2):                    ## value of the initial and final is already extracted so the no of points will be (c-2)\n",
        "        a = a + incrimental_value    ## next equi-distance points which lies between the initial and final value.\n",
        "        s = format(a,\".8f\")          ## formating the float to 8 decimal points\n",
        "        s = float(s)                 ## return of format() is always string so converting it further in float\n",
        "        x.append(s)                  ## uploading the list by adding the points which lies b/w initial and final value one by one \n",
        "        i=i+1                        ## incrementing the value of loop variable by 1\n",
        "    x.append(b)                      ## when the loop section is over then uploading the final point value in the list\n",
        "    print(x)                         ## showing the result\n",
        "    "
      ],
      "metadata": {
        "id": "joJzSAwO5kGV"
      },
      "execution_count": 29,
      "outputs": []
    },
    {
      "cell_type": "markdown",
      "source": [
        "## Test Of my model"
      ],
      "metadata": {
        "id": "Qkz0hiFK5thK"
      }
    },
    {
      "cell_type": "code",
      "source": [
        "mymodel(20,10,10)"
      ],
      "metadata": {
        "colab": {
          "base_uri": "https://localhost:8080/"
        },
        "id": "CZJDqWnh5ln7",
        "outputId": "792985cf-52e3-456e-f6ef-bccb78742c3d"
      },
      "execution_count": 30,
      "outputs": [
        {
          "output_type": "stream",
          "name": "stdout",
          "text": [
            "[20.0, 18.88888889, 17.77777778, 16.66666667, 15.55555556, 14.44444444, 13.33333333, 12.22222222, 11.11111111, 10.0]\n"
          ]
        }
      ]
    },
    {
      "cell_type": "code",
      "source": [
        ""
      ],
      "metadata": {
        "id": "jHpsBRrt5lyi"
      },
      "execution_count": null,
      "outputs": []
    },
    {
      "cell_type": "code",
      "source": [
        ""
      ],
      "metadata": {
        "id": "-M-1-Z7m5mTC"
      },
      "execution_count": null,
      "outputs": []
    },
    {
      "cell_type": "code",
      "source": [
        ""
      ],
      "metadata": {
        "id": "u7FAipxQ5mYr"
      },
      "execution_count": null,
      "outputs": []
    },
    {
      "cell_type": "code",
      "source": [
        ""
      ],
      "metadata": {
        "id": "EuORqbva5mdy"
      },
      "execution_count": null,
      "outputs": []
    },
    {
      "cell_type": "code",
      "source": [
        ""
      ],
      "metadata": {
        "id": "FdaddqFL5mhX"
      },
      "execution_count": null,
      "outputs": []
    },
    {
      "cell_type": "code",
      "source": [
        ""
      ],
      "metadata": {
        "id": "y2K4iyvB5mkm"
      },
      "execution_count": null,
      "outputs": []
    },
    {
      "cell_type": "code",
      "source": [
        ""
      ],
      "metadata": {
        "id": "QNncah825mnC"
      },
      "execution_count": null,
      "outputs": []
    },
    {
      "cell_type": "code",
      "source": [
        ""
      ],
      "metadata": {
        "id": "oeCls0eA5mpi"
      },
      "execution_count": null,
      "outputs": []
    },
    {
      "cell_type": "code",
      "source": [
        ""
      ],
      "metadata": {
        "id": "M4-9uZev5mtQ"
      },
      "execution_count": null,
      "outputs": []
    },
    {
      "cell_type": "code",
      "source": [
        ""
      ],
      "metadata": {
        "id": "XiQwG2HG5my7"
      },
      "execution_count": null,
      "outputs": []
    },
    {
      "cell_type": "code",
      "source": [
        ""
      ],
      "metadata": {
        "id": "3BNVr4B35m2g"
      },
      "execution_count": null,
      "outputs": []
    },
    {
      "cell_type": "code",
      "source": [
        ""
      ],
      "metadata": {
        "id": "TM9rdHnr5m5Z"
      },
      "execution_count": null,
      "outputs": []
    },
    {
      "cell_type": "code",
      "source": [
        ""
      ],
      "metadata": {
        "id": "7MMgC1mK5m84"
      },
      "execution_count": null,
      "outputs": []
    },
    {
      "cell_type": "code",
      "source": [
        ""
      ],
      "metadata": {
        "id": "JOiy9H5u5m-8"
      },
      "execution_count": null,
      "outputs": []
    },
    {
      "cell_type": "code",
      "source": [
        ""
      ],
      "metadata": {
        "id": "YJBJgQT25nBZ"
      },
      "execution_count": null,
      "outputs": []
    },
    {
      "cell_type": "code",
      "source": [
        ""
      ],
      "metadata": {
        "id": "SjZcimIB5nDr"
      },
      "execution_count": null,
      "outputs": []
    },
    {
      "cell_type": "code",
      "source": [
        ""
      ],
      "metadata": {
        "id": "DdxL-i985nHB"
      },
      "execution_count": null,
      "outputs": []
    }
  ]
}